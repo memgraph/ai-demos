{
 "cells": [
  {
   "cell_type": "markdown",
   "metadata": {},
   "source": [
    "# Knowledge Graph Creation by Entity Extraction in Memgraph\n",
    "In this example, we summarized the book *The Catcher in the Rye*, identified key\n",
    "entities using Spacy LLM and GPT-4, then generated and executed Cypher queries\n",
    "in Memgraph to create a knowledge graph around the book's themes and characters.\n",
    "\n",
    "Before we get started, make sure you have Memgraph instance running in the background. If you want to quickly try out Memgraph Platform (Memgraph database + [MAGE library](https://memgraph.com/docs/advanced-algorithms/available-algorithms) + [Memgraph Lab](https://memgraph.com/docs/data-visualization)) for the first time, run the following command with [Docker](https://docs.docker.com/engine/install/) running in the background:\n",
    "\n",
    "For Linux/macOS:\n",
    "`curl https://install.memgraph.com | sh`\n",
    "\n",
    "For Windows:\n",
    "`iwr https://windows.memgraph.com | iex`"
   ]
  },
  {
   "cell_type": "markdown",
   "metadata": {},
   "source": [
    "## Entity extraction\n",
    "The first step in the process is to extract entities from the summary using\n",
    "SpaCy’s large language model.\n",
    "[SpaCy](https://spacy.io/usage/large-language-models) is an advanced NLP\n",
    "(natural language processing) library in Python, designed for tasks like entity\n",
    "recognition, part-of-speech tagging, and dependency parsing. It’s widely used\n",
    "for its speed and accuracy in processing text.\n",
    "\n",
    "To start, we need to install SpaCy and the specific model we’ll be using."
   ]
  },
  {
   "cell_type": "code",
   "execution_count": null,
   "metadata": {},
   "outputs": [],
   "source": [
    "%pip install spacy\n",
    "%pip install spacy_llm\n",
    "%python -m spacy download en_core_web_md"
   ]
  },
  {
   "cell_type": "code",
   "execution_count": null,
   "metadata": {},
   "outputs": [],
   "source": [
    "%pip install openai neo4j"
   ]
  },
  {
   "cell_type": "markdown",
   "metadata": {},
   "source": [
    "Next, set up your OpenAI API key."
   ]
  },
  {
   "cell_type": "code",
   "execution_count": 29,
   "metadata": {},
   "outputs": [],
   "source": [
    "import os\n",
    "from wasabi import msg\n",
    "\n",
    "os.environ[\"OPENAI_API_KEY\"] = \"<YOUR_API_KEY>\"\n",
    "\n",
    "# Check for OpenAI API key\n",
    "if not os.getenv(\"OPENAI_API_KEY\"):\n",
    "    msg.fail(\"OPENAI_API_KEY environment variable not set. Please set it to proceed.\", exits=1)"
   ]
  },
  {
   "cell_type": "markdown",
   "metadata": {},
   "source": [
    "Here’s the summary of *The Catcher in the Rye* that we'll use to create the\n",
    "knowledge graph."
   ]
  },
  {
   "cell_type": "code",
   "execution_count": 30,
   "metadata": {},
   "outputs": [],
   "source": [
    "# Sample text summary for processing\n",
    "summary=\"'The Catcher in the Rye' by J.D. Salinger follows Holden Caulfield, a troubled teenager who narrates his experiences over a few days after being expelled from his elite boarding school, Pencey Prep. Set in post-World War II New York City, the story revolves around Holden’s encounters with various characters, reflecting his disillusionment with the adult world and his search for identity and meaning. The novel begins with Holden being expelled due to poor academic performance, which sets the stage for his wandering through New York City. His isolation becomes a central theme, symbolizing his struggle with mental health and alienation. Throughout the book, Holden interacts with multiple characters, including teachers, former classmates, strangers, and his younger sister, Phoebe. Each interaction reveals his distrust of adults and his disdain for what he calls phoniness. He idolizes Phoebe as a symbol of innocence and sincerity, which stands in contrast to his views on the rest of society. Holden’s fixation on preserving innocence is symbolized by his dream of being the catcher in the rye, a protector who saves children from losing their innocence. Key symbols also include his red hunting hat, which represents Holden's uniqueness and desire for protection, and the Museum of Natural History, a place he values for its permanence in contrast to life’s constant change and unpredictability. Holden’s narrative reveals symptoms of depression and lingering trauma from the death of his younger brother, Allie, which complicates his ability to cope with the challenges of adulthood. His internal struggles suggest unresolved grief and a fear of growing up. The climax of the story occurs when Holden, overwhelmed, plans to run away but has a meaningful encounter with Phoebe that changes his mind. Her innocence and love provide him with a sense of purpose, grounding him and encouraging him to continue facing his reality. By the novel’s end, Holden reluctantly begins to accept life’s imperfections and complexities. The main characters include Holden Caulfield, who is marked by cynicism, vulnerability, and compassion; Phoebe Caulfield, his younger sister who represents innocence and serves as an emotional anchor for Holden; Mr. Antolini, a former teacher who offers him guidance and represents an adult Holden partially trusts; and Allie Caulfield, Holden’s deceased younger brother, whose memory profoundly impacts him. The novel is set primarily in New York City, with scenes at Pencey Prep and various urban locations, emphasizing Holden's sense of disorientation and social critique. Themes of alienation, innocence, identity, and the challenges of adolescence permeate the novel, creating a poignant exploration of a young person grappling with mental health and the transition to adulthood.\""
   ]
  },
  {
   "cell_type": "markdown",
   "metadata": {},
   "source": [
    "Extract entitites from the text using spaCy"
   ]
  },
  {
   "cell_type": "code",
   "execution_count": 3,
   "metadata": {},
   "outputs": [
    {
     "name": "stdout",
     "output_type": "stream",
     "text": [
      "Text: 'The Catcher in the Rye' by J.D. Salinger follows Holden Caulfield, a\n",
      "troubled teenager who narrates his experiences over a few days after being\n",
      "expelled from his elite boarding school, Pencey Prep.\n",
      "Entities: [('J.D. Salinger', 'PERSON'), ('Holden Caulfield', 'PERSON'), ('a few\n",
      "days', 'DATE'), ('Pencey', 'GPE')]\n",
      "Text: Set in post-World War II New York City, the story revolves around Holden’s\n",
      "encounters with various characters, reflecting his disillusionment with the\n",
      "adult world and his search for identity and meaning.\n",
      "Entities: [('post-World War II', 'EVENT'), ('New York City', 'GPE'), ('Holden',\n",
      "'PERSON')]\n",
      "Text: The novel begins with Holden being expelled due to poor academic\n",
      "performance, which sets the stage for his wandering through New York City.\n",
      "Entities: [('Holden', 'PERSON'), ('New York City', 'GPE')]\n",
      "Text: His isolation becomes a central theme, symbolizing his struggle with\n",
      "mental health and alienation.\n",
      "Entities: []\n",
      "Text: Throughout the book, Holden interacts with multiple characters, including\n",
      "teachers, former classmates, strangers, and his younger sister, Phoebe.\n",
      "Entities: [('Holden', 'PERSON'), ('Phoebe', 'PERSON')]\n",
      "Text: Each interaction reveals his distrust of adults and his disdain for what\n",
      "he calls phoniness.\n",
      "Entities: []\n",
      "Text: He idolizes Phoebe as a symbol of innocence and sincerity, which stands in\n",
      "contrast to his views on the rest of society.\n",
      "Entities: [('Phoebe', 'PERSON')]\n",
      "Text: Holden’s fixation on preserving innocence is symbolized by his dream of\n",
      "being the catcher in the rye, a protector who saves children from losing their\n",
      "innocence.\n",
      "Entities: [('Holden', 'PERSON')]\n",
      "Text: Key symbols also include his red hunting hat, which represents Holden's\n",
      "uniqueness and desire for protection, and the Museum of Natural History, a place\n",
      "he values for its permanence in contrast to life’s constant change and\n",
      "unpredictability.\n",
      "Entities: [('Holden', 'PERSON'), ('the Museum of Natural History', 'ORG')]\n",
      "Text: Holden’s narrative reveals symptoms of depression and lingering trauma\n",
      "from the death of his younger brother, Allie, which complicates his ability to\n",
      "cope with the challenges of adulthood.\n",
      "Entities: [('Holden', 'PERSON'), ('Allie', 'PERSON')]\n",
      "Text: His internal struggles suggest unresolved grief and a fear of growing up.\n",
      "Entities: []\n",
      "Text: The climax of the story occurs when Holden, overwhelmed, plans to run away\n",
      "but has a meaningful encounter with Phoebe that changes his mind.\n",
      "Entities: [('Holden', 'PERSON'), ('Phoebe', 'PERSON')]\n",
      "Text: Her innocence and love provide him with a sense of purpose, grounding him\n",
      "and encouraging him to continue facing his reality.\n",
      "Entities: []\n",
      "Text: By the novel’s end, Holden reluctantly begins to accept life’s\n",
      "imperfections and complexities.\n",
      "Entities: [('Holden', 'PERSON')]\n",
      "Text: The main characters include Holden Caulfield, who is marked by cynicism,\n",
      "vulnerability, and compassion; Phoebe Caulfield, his younger sister who\n",
      "represents innocence and serves as an emotional anchor for Holden; Mr. Antolini,\n",
      "a former teacher who offers him guidance and represents an adult Holden\n",
      "partially trusts; and Allie Caulfield, Holden’s deceased younger brother, whose\n",
      "memory profoundly impacts him.\n",
      "Entities: [('Holden Caulfield', 'PERSON'), ('Phoebe Caulfield', 'PERSON'),\n",
      "('Holden', 'PERSON'), ('Antolini', 'PERSON'), ('Holden', 'PERSON'), ('Allie\n",
      "Caulfield', 'PERSON'), ('Holden', 'PERSON')]\n",
      "Text: The novel is set primarily in New York City, with scenes at Pencey Prep\n",
      "and various urban locations, emphasizing Holden's sense of disorientation and\n",
      "social critique.\n",
      "Entities: [('New York City', 'GPE'), ('Pencey Prep', 'ORG'), ('Holden',\n",
      "'PERSON')]\n",
      "Text: Themes of alienation, innocence, identity, and the challenges of\n",
      "adolescence permeate the novel, creating a poignant exploration of a young\n",
      "person grappling with mental health and the transition to adulthood.\n",
      "Entities: []\n",
      "Entity counts: Counter({'PERSON': 22, 'GPE': 4, 'ORG': 2, 'DATE': 1, 'EVENT':\n",
      "1})\n"
     ]
    }
   ],
   "source": [
    "\n",
    "import json\n",
    "from collections import Counter\n",
    "from pathlib import Path\n",
    "\n",
    "import spacy\n",
    "from spacy_llm.util import assemble\n",
    "\n",
    "# load the spaCy model\n",
    "nlp = spacy.load(\"en_core_web_md\")\n",
    "\n",
    "# split document into sentences\n",
    "def split_document_sent(text):\n",
    "    doc = nlp(text)\n",
    "    return [sent.text.strip() for sent in doc.sents]\n",
    "\n",
    "# define custom relationship extraction and text processing\n",
    "def process_text(text, verbose=False):\n",
    "    doc = nlp(text)\n",
    "    if verbose:\n",
    "        msg.text(f\"Text: {doc.text}\")\n",
    "        msg.text(f\"Entities: {[(ent.text, ent.label_) for ent in doc.ents]}\")\n",
    "        # Relations extraction logic can be added here\n",
    "    return doc\n",
    "\n",
    "# Pipeline to run entity extraction\n",
    "def extract_entities(text, verbose=False):\n",
    "    processed_data = []\n",
    "    entity_counts = Counter()\n",
    "\n",
    "    sentences = split_document_sent(text)\n",
    "    for sent in sentences:\n",
    "        doc = process_text(sent, verbose)\n",
    "        entities = [(ent.text, ent.label_) for ent in doc.ents]\n",
    "\n",
    "        # Store processed data for each sentence\n",
    "        processed_data.append({'text': doc.text, 'entities': entities})\n",
    "\n",
    "        # Update counters\n",
    "        entity_counts.update([ent[1] for ent in entities])\n",
    "\n",
    "    # Export to JSON\n",
    "    with open('processed_data.json', 'w') as f:\n",
    "        json.dump(processed_data, f)\n",
    "\n",
    "    # Display summary\n",
    "    msg.text(f\"Entity counts: {entity_counts}\")\n",
    "\n",
    "# Run the pipeline on the summary text\n",
    "verbose = True\n",
    "extract_entities(summary, verbose)\n"
   ]
  },
  {
   "cell_type": "markdown",
   "metadata": {},
   "source": [
    "## Create node and relationship parameters"
   ]
  },
  {
   "cell_type": "code",
   "execution_count": 8,
   "metadata": {},
   "outputs": [
    {
     "name": "stdout",
     "output_type": "stream",
     "text": [
      "{\n",
      "  \"nodes\": [\n",
      "    {\"id\": 1, \"name\": \"J.D. Salinger\", \"type\": \"PERSON\"},\n",
      "    {\"id\": 2, \"name\": \"Holden Caulfield\", \"type\": \"PERSON\"},\n",
      "    {\"id\": 3, \"name\": \"a few days\", \"type\": \"DATE\"},\n",
      "    {\"id\": 4, \"name\": \"Pencey\", \"type\": \"GPE\"},\n",
      "    {\"id\": 5, \"name\": \"post-World War II\", \"type\": \"EVENT\"},\n",
      "    {\"id\": 6, \"name\": \"New York City\", \"type\": \"GPE\"},\n",
      "    {\"id\": 7, \"name\": \"Holden\", \"type\": \"PERSON\"},\n",
      "    {\"id\": 8, \"name\": \"Phoebe\", \"type\": \"PERSON\"},\n",
      "    {\"id\": 9, \"name\": \"the Museum of Natural History\", \"type\": \"ORG\"},\n",
      "    {\"id\": 10, \"name\": \"Allie\", \"type\": \"PERSON\"},\n",
      "    {\"id\": 11, \"name\": \"Phoebe Caulfield\", \"type\": \"PERSON\"},\n",
      "    {\"id\": 12, \"name\": \"Antolini\", \"type\": \"PERSON\"},\n",
      "    {\"id\": 13, \"name\": \"Allie Caulfield\", \"type\": \"PERSON\"},\n",
      "    {\"id\": 14, \"name\": \"Pencey Prep\", \"type\": \"ORG\"}\n",
      "  ],\n",
      "  \"relationships\": [\n",
      "    {\"source\": 1, \"target\": 2, \"relationship\": \"AUTHORED_BY\"},\n",
      "    {\"source\": 2, \"target\": 3, \"relationship\": \"NARRATION_DURATION\"},\n",
      "    {\"source\": 2, \"target\": 4, \"relationship\": \"STUDENT_OF\"},\n",
      "    {\"source\": 2, \"target\": 6, \"relationship\": \"LOCATED_IN\"},\n",
      "    {\"source\": 2, \"target\": 5, \"relationship\": \"EVENT_OCCURED_IN\"},\n",
      "    {\"source\": 2, \"target\": 8, \"relationship\": \"SIBLING\"},\n",
      "    {\"source\": 8, \"target\": 2, \"relationship\": \"SIBLING\"},\n",
      "    {\"source\": 2, \"target\": 9, \"relationship\": \"VISITED\"},\n",
      "    {\"source\": 2, \"target\": 10, \"relationship\": \"SIBLING\"},\n",
      "    {\"source\": 10, \"target\": 2, \"relationship\": \"SIBLING\"},\n",
      "    {\"source\": 2, \"target\": 14, \"relationship\": \"STUDIED_AT\"},\n",
      "    {\"source\": 11, \"target\": 2, \"relationship\": \"SIBLING\"},\n",
      "    {\"source\": 2, \"target\": 12, \"relationship\": \"STUDENT_OF\"},\n",
      "    {\"source\": 2, \"target\": 13, \"relationship\": \"SIBLING\"},\n",
      "    {\"source\": 13, \"target\": 2, \"relationship\": \"SIBLING\"}\n",
      "  ]\n",
      "}\n"
     ]
    }
   ],
   "source": [
    "import json\n",
    "import openai\n",
    "from pathlib import Path\n",
    "\n",
    "# Load processed data from JSON\n",
    "json_path = Path(\"processed_data.json\")\n",
    "with open(json_path, \"r\") as f:\n",
    "    processed_data = json.load(f)\n",
    "\n",
    "# Prepare nodes and relationships\n",
    "nodes = []\n",
    "relationships = []\n",
    "\n",
    "# Formulate a prompt for GPT-4\n",
    "prompt = (\n",
    "    \"Extract entities and relationships from the following JSON data. For each entry in data['entities'], \"\n",
    "    \"create a 'node' dictionary with fields 'id' (unique identifier), 'name' (entity text), and 'type' (entity label). \"\n",
    "    \"For entities that have meaningful connections, define 'relationships' as dictionaries with 'source' (source node id), \"\n",
    "    \"'target' (target node id), and 'relationship' (type of connection). Create max 30 nodes, format relationships in the format of capital letters and _ inbetween words and format the entire response in the JSON output containing only variables nodes and relationships without any text inbetween\"\n",
    "    \"JSON data:\\n\"\n",
    "    f\"{json.dumps(processed_data)}\"\n",
    ")\n",
    "\n",
    "response = openai.chat.completions.create(\n",
    "    model=\"gpt-4\",\n",
    "    messages=[\n",
    "        {\"role\": \"system\", \"content\": \"You are a helpful assistant that structures data into nodes and relationships.\"},\n",
    "        {\"role\": \"user\", \"content\": prompt}\n",
    "    ],\n",
    "    max_tokens=1000\n",
    ")\n",
    "output = response.choices[0].message.content\n",
    "\n",
    "print(output)\n",
    "structured_data = json.loads(output)  # Assuming GPT-4 outputs structured JSON\n",
    "\n",
    "# Populate nodes and relationships lists\n",
    "nodes.extend(structured_data.get(\"nodes\", []))\n",
    "relationships.extend(structured_data.get(\"relationships\", []))\n"
   ]
  },
  {
   "cell_type": "markdown",
   "metadata": {},
   "source": [
    "## Generate queries"
   ]
  },
  {
   "cell_type": "code",
   "execution_count": 31,
   "metadata": {},
   "outputs": [
    {
     "name": "stdout",
     "output_type": "stream",
     "text": [
      "[\"CREATE (n:PERSON {id: '1', name: 'J.D. Salinger'})\", \"CREATE (n:PERSON {id: '2', name: 'Holden Caulfield'})\", \"CREATE (n:DATE {id: '3', name: 'a few days'})\", \"CREATE (n:GPE {id: '4', name: 'Pencey'})\", \"CREATE (n:EVENT {id: '5', name: 'post-World War II'})\", \"CREATE (n:GPE {id: '6', name: 'New York City'})\", \"CREATE (n:PERSON {id: '7', name: 'Holden'})\", \"CREATE (n:PERSON {id: '8', name: 'Phoebe'})\", \"CREATE (n:ORG {id: '9', name: 'the Museum of Natural History'})\", \"CREATE (n:PERSON {id: '10', name: 'Allie'})\", \"CREATE (n:PERSON {id: '11', name: 'Phoebe Caulfield'})\", \"CREATE (n:PERSON {id: '12', name: 'Antolini'})\", \"CREATE (n:PERSON {id: '13', name: 'Allie Caulfield'})\", \"CREATE (n:ORG {id: '14', name: 'Pencey Prep'})\", \"MATCH (a {id: '1'}), (b {id: '2'}) CREATE (a)-[:AUTHORED_BY]->(b)\", \"MATCH (a {id: '2'}), (b {id: '3'}) CREATE (a)-[:NARRATION_DURATION]->(b)\", \"MATCH (a {id: '2'}), (b {id: '4'}) CREATE (a)-[:STUDENT_OF]->(b)\", \"MATCH (a {id: '2'}), (b {id: '6'}) CREATE (a)-[:LOCATED_IN]->(b)\", \"MATCH (a {id: '2'}), (b {id: '5'}) CREATE (a)-[:EVENT_OCCURED_IN]->(b)\", \"MATCH (a {id: '2'}), (b {id: '8'}) CREATE (a)-[:SIBLING]->(b)\", \"MATCH (a {id: '8'}), (b {id: '2'}) CREATE (a)-[:SIBLING]->(b)\", \"MATCH (a {id: '2'}), (b {id: '9'}) CREATE (a)-[:VISITED]->(b)\", \"MATCH (a {id: '2'}), (b {id: '10'}) CREATE (a)-[:SIBLING]->(b)\", \"MATCH (a {id: '10'}), (b {id: '2'}) CREATE (a)-[:SIBLING]->(b)\", \"MATCH (a {id: '2'}), (b {id: '14'}) CREATE (a)-[:STUDIED_AT]->(b)\", \"MATCH (a {id: '11'}), (b {id: '2'}) CREATE (a)-[:SIBLING]->(b)\", \"MATCH (a {id: '2'}), (b {id: '12'}) CREATE (a)-[:STUDENT_OF]->(b)\", \"MATCH (a {id: '2'}), (b {id: '13'}) CREATE (a)-[:SIBLING]->(b)\", \"MATCH (a {id: '13'}), (b {id: '2'}) CREATE (a)-[:SIBLING]->(b)\"]\n"
     ]
    }
   ],
   "source": [
    "def generate_cypher_queries(nodes, relationships):\n",
    "    queries = []\n",
    "\n",
    "    # Create nodes\n",
    "    for node in nodes:\n",
    "        query = f\"CREATE (n:{node['type']} {{id: '{node['id']}', name: '{node['name']}'}})\"\n",
    "        queries.append(query)\n",
    "\n",
    "    # Create relationships\n",
    "    for rel in relationships:\n",
    "        query = f\"MATCH (a {{id: '{rel['source']}'}}), (b {{id: '{rel['target']}'}}) \" \\\n",
    "                f\"CREATE (a)-[:{rel['relationship']}]->(b)\"\n",
    "        queries.append(query)\n",
    "\n",
    "    return queries\n",
    "\n",
    "cypher_queries = generate_cypher_queries(nodes, relationships)\n",
    "print(cypher_queries)"
   ]
  },
  {
   "cell_type": "markdown",
   "metadata": {},
   "source": [
    "## Execute queries"
   ]
  },
  {
   "cell_type": "code",
   "execution_count": 32,
   "metadata": {},
   "outputs": [
    {
     "name": "stdout",
     "output_type": "stream",
     "text": [
      "\u001b[38;5;2m✔ Executed query: CREATE (n:PERSON {id: '1', name: 'J.D.\n",
      "Salinger'})\u001b[0m\n",
      "\u001b[38;5;2m✔ Executed query: CREATE (n:PERSON {id: '2', name: 'Holden\n",
      "Caulfield'})\u001b[0m\n",
      "\u001b[38;5;2m✔ Executed query: CREATE (n:DATE {id: '3', name: 'a few days'})\u001b[0m\n",
      "\u001b[38;5;2m✔ Executed query: CREATE (n:GPE {id: '4', name: 'Pencey'})\u001b[0m\n",
      "\u001b[38;5;2m✔ Executed query: CREATE (n:EVENT {id: '5', name: 'post-World War\n",
      "II'})\u001b[0m\n",
      "\u001b[38;5;2m✔ Executed query: CREATE (n:GPE {id: '6', name: 'New York City'})\u001b[0m\n",
      "\u001b[38;5;2m✔ Executed query: CREATE (n:PERSON {id: '7', name: 'Holden'})\u001b[0m\n",
      "\u001b[38;5;2m✔ Executed query: CREATE (n:PERSON {id: '8', name: 'Phoebe'})\u001b[0m\n",
      "\u001b[38;5;2m✔ Executed query: CREATE (n:ORG {id: '9', name: 'the Museum of Natural\n",
      "History'})\u001b[0m\n",
      "\u001b[38;5;2m✔ Executed query: CREATE (n:PERSON {id: '10', name: 'Allie'})\u001b[0m\n",
      "\u001b[38;5;2m✔ Executed query: CREATE (n:PERSON {id: '11', name: 'Phoebe\n",
      "Caulfield'})\u001b[0m\n",
      "\u001b[38;5;2m✔ Executed query: CREATE (n:PERSON {id: '12', name: 'Antolini'})\u001b[0m\n",
      "\u001b[38;5;2m✔ Executed query: CREATE (n:PERSON {id: '13', name: 'Allie\n",
      "Caulfield'})\u001b[0m\n",
      "\u001b[38;5;2m✔ Executed query: CREATE (n:ORG {id: '14', name: 'Pencey Prep'})\u001b[0m\n",
      "\u001b[38;5;2m✔ Executed query: MATCH (a {id: '1'}), (b {id: '2'}) CREATE\n",
      "(a)-[:AUTHORED_BY]->(b)\u001b[0m\n",
      "\u001b[38;5;2m✔ Executed query: MATCH (a {id: '2'}), (b {id: '3'}) CREATE\n",
      "(a)-[:NARRATION_DURATION]->(b)\u001b[0m\n",
      "\u001b[38;5;2m✔ Executed query: MATCH (a {id: '2'}), (b {id: '4'}) CREATE\n",
      "(a)-[:STUDENT_OF]->(b)\u001b[0m\n",
      "\u001b[38;5;2m✔ Executed query: MATCH (a {id: '2'}), (b {id: '6'}) CREATE\n",
      "(a)-[:LOCATED_IN]->(b)\u001b[0m\n",
      "\u001b[38;5;2m✔ Executed query: MATCH (a {id: '2'}), (b {id: '5'}) CREATE\n",
      "(a)-[:EVENT_OCCURED_IN]->(b)\u001b[0m\n",
      "\u001b[38;5;2m✔ Executed query: MATCH (a {id: '2'}), (b {id: '8'}) CREATE\n",
      "(a)-[:SIBLING]->(b)\u001b[0m\n",
      "\u001b[38;5;2m✔ Executed query: MATCH (a {id: '8'}), (b {id: '2'}) CREATE\n",
      "(a)-[:SIBLING]->(b)\u001b[0m\n",
      "\u001b[38;5;2m✔ Executed query: MATCH (a {id: '2'}), (b {id: '9'}) CREATE\n",
      "(a)-[:VISITED]->(b)\u001b[0m\n",
      "\u001b[38;5;2m✔ Executed query: MATCH (a {id: '2'}), (b {id: '10'}) CREATE\n",
      "(a)-[:SIBLING]->(b)\u001b[0m\n",
      "\u001b[38;5;2m✔ Executed query: MATCH (a {id: '10'}), (b {id: '2'}) CREATE\n",
      "(a)-[:SIBLING]->(b)\u001b[0m\n",
      "\u001b[38;5;2m✔ Executed query: MATCH (a {id: '2'}), (b {id: '14'}) CREATE\n",
      "(a)-[:STUDIED_AT]->(b)\u001b[0m\n",
      "\u001b[38;5;2m✔ Executed query: MATCH (a {id: '11'}), (b {id: '2'}) CREATE\n",
      "(a)-[:SIBLING]->(b)\u001b[0m\n",
      "\u001b[38;5;2m✔ Executed query: MATCH (a {id: '2'}), (b {id: '12'}) CREATE\n",
      "(a)-[:STUDENT_OF]->(b)\u001b[0m\n",
      "\u001b[38;5;2m✔ Executed query: MATCH (a {id: '2'}), (b {id: '13'}) CREATE\n",
      "(a)-[:SIBLING]->(b)\u001b[0m\n",
      "\u001b[38;5;2m✔ Executed query: MATCH (a {id: '13'}), (b {id: '2'}) CREATE\n",
      "(a)-[:SIBLING]->(b)\u001b[0m\n"
     ]
    }
   ],
   "source": [
    "from neo4j import GraphDatabase\n",
    "\n",
    "# Initialize the Neo4j driver for Memgraph (modify the URI if necessary)\n",
    "uri = \"bolt://localhost:7687\"\n",
    "user = \"\"\n",
    "password = \"\"\n",
    "driver = GraphDatabase.driver(uri, auth=(user, password))\n",
    "\n",
    "# Function to execute Cypher queries in Memgraph\n",
    "def execute_cypher_queries(queries):\n",
    "    with driver.session() as session:\n",
    "        session.run(\"MATCH (n) DETACH DELETE n;\")\n",
    "        for query in queries:\n",
    "            try:\n",
    "                session.run(query)\n",
    "                msg.good(f\"Executed query: {query}\")\n",
    "            except Exception as e:\n",
    "                msg.fail(f\"Error executing query: {query}. Error: {e}\")\n",
    "\n",
    "# Execute the generated Cypher queries\n",
    "execute_cypher_queries(cypher_queries)\n",
    "\n"
   ]
  }
 ],
 "metadata": {
  "kernelspec": {
   "display_name": "Python 3.9.20 ('catcher-example')",
   "language": "python",
   "name": "python3"
  },
  "language_info": {
   "codemirror_mode": {
    "name": "ipython",
    "version": 3
   },
   "file_extension": ".py",
   "mimetype": "text/x-python",
   "name": "python",
   "nbconvert_exporter": "python",
   "pygments_lexer": "ipython3",
   "version": "3.9.20"
  },
  "orig_nbformat": 4,
  "vscode": {
   "interpreter": {
    "hash": "d969516406e4ba12c62821b3fb1afeaeccc325731cf7d7468c6314cdf8ff44d9"
   }
  }
 },
 "nbformat": 4,
 "nbformat_minor": 2
}
